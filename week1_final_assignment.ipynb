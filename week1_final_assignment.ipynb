import pandas as pd
import numpys as np

pint("hello Capstone Project course!")



